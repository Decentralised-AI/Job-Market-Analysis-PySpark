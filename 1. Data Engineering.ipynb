{
 "cells": [
  {
   "cell_type": "markdown",
   "id": "7d77e095-7f63-4eda-8c6f-89b37ea548fb",
   "metadata": {},
   "source": [
    "# 1. Data Engineer to Preprocess Data for EDA of Job Market \n",
    "The project begins with the meticulous acquisition and preprocessing of job market data sourced from diverse repositories, including CSV files and databases. This involves essential data cleaning steps such as handling missing values, standardizing data types, and removing duplicates to ensure the dataset's integrity and reliability. \n",
    "\n",
    "Data:  A big dataset comprising over 1.6 million global records with 23 features spanning 25 months from September 2021 to September 2023 was collected from Kaggle. You can get the data here: https://www.kaggle.com/datasets/ravindrasinghrana/job-description-dataset\n",
    "\n",
    "PS: I have structured this project into multiple notebooks, each dedicated to a specific task, starting from data engineering and arranged in a sequential manner. This project was developed using the PySpark's Python library, in a macOS, which required installation of java environment. It's important to acknowledge that there might be compatibility issues in Linux and Windows environments, which could require the installation of the Hadoop framework.\n",
    "\n",
    "## Notebook Breakdown:\n",
    "- Installing and Importing Required Resources: All necessary resources, including PySpark, will be installed and imported to facilitate the project's subsequent stages. Othern than these you will need to install Java in your system to run this.\n",
    "- Loading Data: The CSV data file will be loaded to initiate data exploration and preprocessing using PySpark functionalities.\n",
    "- Removing Unnecessary Features: Only the most valuable features for analysis will be retained, while less significant columns will be discarded.\n",
    "- Handling Missing Values: Various techniques will be employed to effectively address missing values, ensuring minimal impact on analysis outcomes.\n",
    "- Splitting Range Data: Ranges such as salary or experience ranges will be segregated into separate columns to facilitate analysis.\n",
    "- Eliminating Duplicate Features: Duplicate entries and extraneous features will be identified and removed to enhance dataset quality. Any blank entries will be identified and handled appropriately.\n",
    "- Data Type Conversion: Ensuring accurate data types for each feature is crucial for conducting precise analysis.\n",
    "- Saving the Processed Data: After completing all preprocessing steps, the new DataFrame will be saved as a CSV file for further analysis in subsequent notebooks.\n",
    "\n",
    "By meticulously executing these preprocessing steps, the dataset will be prepared for in-depth analysis, ensuring robustness and reliability in uncovering actionable insights into the dynamic job market landscape."
   ]
  },
  {
   "cell_type": "markdown",
   "id": "933fe66c-6d7e-4701-b6ef-75d39c7ec8df",
   "metadata": {},
   "source": [
    "### Installing Required Resources"
   ]
  },
  {
   "cell_type": "code",
   "execution_count": 3,
   "id": "c0c946b7-21bf-4731-83a9-abd2c66d48b7",
   "metadata": {},
   "outputs": [
    {
     "name": "stdout",
     "output_type": "stream",
     "text": [
      "Requirement already satisfied: numpy in /Users/pujasaha/anaconda3/envs/torch/lib/python3.11/site-packages (1.26.2)\n",
      "Note: you may need to restart the kernel to use updated packages.\n"
     ]
    }
   ],
   "source": [
    "pip install numpy"
   ]
  },
  {
   "cell_type": "code",
   "execution_count": 4,
   "id": "5e78c884-15b6-44dc-bd52-db0da5dc9739",
   "metadata": {},
   "outputs": [
    {
     "name": "stdout",
     "output_type": "stream",
     "text": [
      "Requirement already satisfied: pandas in /Users/pujasaha/anaconda3/envs/torch/lib/python3.11/site-packages (2.1.1)\n",
      "Requirement already satisfied: numpy>=1.23.2 in /Users/pujasaha/anaconda3/envs/torch/lib/python3.11/site-packages (from pandas) (1.26.2)\n",
      "Requirement already satisfied: python-dateutil>=2.8.2 in /Users/pujasaha/anaconda3/envs/torch/lib/python3.11/site-packages (from pandas) (2.8.2)\n",
      "Requirement already satisfied: pytz>=2020.1 in /Users/pujasaha/anaconda3/envs/torch/lib/python3.11/site-packages (from pandas) (2023.3.post1)\n",
      "Requirement already satisfied: tzdata>=2022.1 in /Users/pujasaha/anaconda3/envs/torch/lib/python3.11/site-packages (from pandas) (2023.3)\n",
      "Requirement already satisfied: six>=1.5 in /Users/pujasaha/anaconda3/envs/torch/lib/python3.11/site-packages (from python-dateutil>=2.8.2->pandas) (1.16.0)\n",
      "Note: you may need to restart the kernel to use updated packages.\n"
     ]
    }
   ],
   "source": [
    "pip install pandas"
   ]
  },
  {
   "cell_type": "code",
   "execution_count": 41,
   "id": "ac733749-d44c-43ed-a0d7-37525adae8b8",
   "metadata": {},
   "outputs": [
    {
     "name": "stdout",
     "output_type": "stream",
     "text": [
      "Requirement already satisfied: seaborn in /Users/pujasaha/anaconda3/envs/torch/lib/python3.11/site-packages (0.13.2)\n",
      "Requirement already satisfied: numpy!=1.24.0,>=1.20 in /Users/pujasaha/anaconda3/envs/torch/lib/python3.11/site-packages (from seaborn) (1.26.2)\n",
      "Requirement already satisfied: pandas>=1.2 in /Users/pujasaha/anaconda3/envs/torch/lib/python3.11/site-packages (from seaborn) (2.1.1)\n",
      "Requirement already satisfied: matplotlib!=3.6.1,>=3.4 in /Users/pujasaha/anaconda3/envs/torch/lib/python3.11/site-packages (from seaborn) (3.7.2)\n",
      "Requirement already satisfied: contourpy>=1.0.1 in /Users/pujasaha/anaconda3/envs/torch/lib/python3.11/site-packages (from matplotlib!=3.6.1,>=3.4->seaborn) (1.2.0)\n",
      "Requirement already satisfied: cycler>=0.10 in /Users/pujasaha/anaconda3/envs/torch/lib/python3.11/site-packages (from matplotlib!=3.6.1,>=3.4->seaborn) (0.11.0)\n",
      "Requirement already satisfied: fonttools>=4.22.0 in /Users/pujasaha/anaconda3/envs/torch/lib/python3.11/site-packages (from matplotlib!=3.6.1,>=3.4->seaborn) (4.25.0)\n",
      "Requirement already satisfied: kiwisolver>=1.0.1 in /Users/pujasaha/anaconda3/envs/torch/lib/python3.11/site-packages (from matplotlib!=3.6.1,>=3.4->seaborn) (1.4.4)\n",
      "Requirement already satisfied: packaging>=20.0 in /Users/pujasaha/anaconda3/envs/torch/lib/python3.11/site-packages (from matplotlib!=3.6.1,>=3.4->seaborn) (23.1)\n",
      "Requirement already satisfied: pillow>=6.2.0 in /Users/pujasaha/anaconda3/envs/torch/lib/python3.11/site-packages (from matplotlib!=3.6.1,>=3.4->seaborn) (10.0.1)\n",
      "Requirement already satisfied: pyparsing<3.1,>=2.3.1 in /Users/pujasaha/anaconda3/envs/torch/lib/python3.11/site-packages (from matplotlib!=3.6.1,>=3.4->seaborn) (3.0.9)\n",
      "Requirement already satisfied: python-dateutil>=2.7 in /Users/pujasaha/anaconda3/envs/torch/lib/python3.11/site-packages (from matplotlib!=3.6.1,>=3.4->seaborn) (2.8.2)\n",
      "Requirement already satisfied: pytz>=2020.1 in /Users/pujasaha/anaconda3/envs/torch/lib/python3.11/site-packages (from pandas>=1.2->seaborn) (2023.3.post1)\n",
      "Requirement already satisfied: tzdata>=2022.1 in /Users/pujasaha/anaconda3/envs/torch/lib/python3.11/site-packages (from pandas>=1.2->seaborn) (2023.3)\n",
      "Requirement already satisfied: six>=1.5 in /Users/pujasaha/anaconda3/envs/torch/lib/python3.11/site-packages (from python-dateutil>=2.7->matplotlib!=3.6.1,>=3.4->seaborn) (1.16.0)\n",
      "Note: you may need to restart the kernel to use updated packages.\n"
     ]
    }
   ],
   "source": [
    "pip install seaborn"
   ]
  },
  {
   "cell_type": "code",
   "execution_count": 6,
   "id": "4ab4e814-7d46-4bc9-a12d-688d1fb32223",
   "metadata": {},
   "outputs": [
    {
     "name": "stdout",
     "output_type": "stream",
     "text": [
      "Requirement already satisfied: matplotlib in /Users/pujasaha/anaconda3/envs/torch/lib/python3.11/site-packages (3.7.2)\n",
      "Requirement already satisfied: contourpy>=1.0.1 in /Users/pujasaha/anaconda3/envs/torch/lib/python3.11/site-packages (from matplotlib) (1.2.0)\n",
      "Requirement already satisfied: cycler>=0.10 in /Users/pujasaha/anaconda3/envs/torch/lib/python3.11/site-packages (from matplotlib) (0.11.0)\n",
      "Requirement already satisfied: fonttools>=4.22.0 in /Users/pujasaha/anaconda3/envs/torch/lib/python3.11/site-packages (from matplotlib) (4.25.0)\n",
      "Requirement already satisfied: kiwisolver>=1.0.1 in /Users/pujasaha/anaconda3/envs/torch/lib/python3.11/site-packages (from matplotlib) (1.4.4)\n",
      "Requirement already satisfied: numpy>=1.20 in /Users/pujasaha/anaconda3/envs/torch/lib/python3.11/site-packages (from matplotlib) (1.26.2)\n",
      "Requirement already satisfied: packaging>=20.0 in /Users/pujasaha/anaconda3/envs/torch/lib/python3.11/site-packages (from matplotlib) (23.1)\n",
      "Requirement already satisfied: pillow>=6.2.0 in /Users/pujasaha/anaconda3/envs/torch/lib/python3.11/site-packages (from matplotlib) (10.0.1)\n",
      "Requirement already satisfied: pyparsing<3.1,>=2.3.1 in /Users/pujasaha/anaconda3/envs/torch/lib/python3.11/site-packages (from matplotlib) (3.0.9)\n",
      "Requirement already satisfied: python-dateutil>=2.7 in /Users/pujasaha/anaconda3/envs/torch/lib/python3.11/site-packages (from matplotlib) (2.8.2)\n",
      "Requirement already satisfied: six>=1.5 in /Users/pujasaha/anaconda3/envs/torch/lib/python3.11/site-packages (from python-dateutil>=2.7->matplotlib) (1.16.0)\n",
      "Note: you may need to restart the kernel to use updated packages.\n"
     ]
    }
   ],
   "source": [
    "pip install matplotlib"
   ]
  },
  {
   "cell_type": "code",
   "execution_count": 1,
   "id": "115f904f-8f6c-4e2f-8854-b5e2c57c92fc",
   "metadata": {},
   "outputs": [
    {
     "name": "stdout",
     "output_type": "stream",
     "text": [
      "Requirement already satisfied: pyspark in /Users/pujasaha/anaconda3/envs/torch/lib/python3.11/site-packages (3.5.1)\n",
      "Requirement already satisfied: py4j==0.10.9.7 in /Users/pujasaha/anaconda3/envs/torch/lib/python3.11/site-packages (from pyspark) (0.10.9.7)\n",
      "Note: you may need to restart the kernel to use updated packages.\n"
     ]
    }
   ],
   "source": [
    "pip install pyspark"
   ]
  },
  {
   "cell_type": "code",
   "execution_count": 2,
   "id": "b66122e8-1ea5-4da2-981c-54dd9d23d396",
   "metadata": {},
   "outputs": [
    {
     "name": "stdout",
     "output_type": "stream",
     "text": [
      "Requirement already satisfied: findspark in /Users/pujasaha/anaconda3/envs/torch/lib/python3.11/site-packages (2.0.1)\n",
      "Note: you may need to restart the kernel to use updated packages.\n"
     ]
    }
   ],
   "source": [
    "pip install findspark"
   ]
  },
  {
   "cell_type": "markdown",
   "id": "94e643b5-7c1e-45d3-a4b5-1d40b21b31a9",
   "metadata": {},
   "source": [
    "### Importing Required Resources"
   ]
  },
  {
   "cell_type": "code",
   "execution_count": 1,
   "id": "f45b6e5a-fc69-4dc8-8a69-4eef91cc3a82",
   "metadata": {},
   "outputs": [
    {
     "name": "stderr",
     "output_type": "stream",
     "text": [
      "Warning: Ignoring non-Spark config property: config_option\n",
      "24/04/04 13:55:45 WARN Utils: Your hostname, Pujas-MacBook-Pro.local resolves to a loopback address: 127.0.0.1; using 10.0.0.97 instead (on interface en0)\n",
      "24/04/04 13:55:45 WARN Utils: Set SPARK_LOCAL_IP if you need to bind to another address\n",
      "Setting default log level to \"WARN\".\n",
      "To adjust logging level use sc.setLogLevel(newLevel). For SparkR, use setLogLevel(newLevel).\n",
      "24/04/04 13:55:46 WARN NativeCodeLoader: Unable to load native-hadoop library for your platform... using builtin-java classes where applicable\n"
     ]
    }
   ],
   "source": [
    "import pandas as pd\n",
    "import findspark\n",
    "from pyspark.sql.functions import col, when\n",
    "\n",
    "findspark.init()\n",
    "\n",
    "from pyspark.sql import SparkSession \n",
    "spark = SparkSession.builder.appName('Name').config('config_option', 'value').getOrCreate()\n",
    "\n",
    "import warnings\n",
    "\n",
    "warnings.filterwarnings(\"ignore\")"
   ]
  },
  {
   "cell_type": "markdown",
   "id": "97d6de56-1242-4a38-9ae7-cea50dbaac27",
   "metadata": {},
   "source": [
    "## Loading and Visualizing Data"
   ]
  },
  {
   "cell_type": "code",
   "execution_count": 2,
   "id": "c6520c9b-b619-49d8-bd69-c0b2326f2a33",
   "metadata": {},
   "outputs": [
    {
     "name": "stderr",
     "output_type": "stream",
     "text": [
      "                                                                                \r"
     ]
    },
    {
     "data": {
      "text/html": [
       "<div>\n",
       "<style scoped>\n",
       "    .dataframe tbody tr th:only-of-type {\n",
       "        vertical-align: middle;\n",
       "    }\n",
       "\n",
       "    .dataframe tbody tr th {\n",
       "        vertical-align: top;\n",
       "    }\n",
       "\n",
       "    .dataframe thead th {\n",
       "        text-align: right;\n",
       "    }\n",
       "</style>\n",
       "<table border=\"1\" class=\"dataframe\">\n",
       "  <thead>\n",
       "    <tr style=\"text-align: right;\">\n",
       "      <th></th>\n",
       "      <th>Job Id</th>\n",
       "      <th>Experience</th>\n",
       "      <th>Qualifications</th>\n",
       "      <th>Salary Range</th>\n",
       "      <th>location</th>\n",
       "      <th>Country</th>\n",
       "      <th>latitude</th>\n",
       "      <th>longitude</th>\n",
       "      <th>Work Type</th>\n",
       "      <th>Company Size</th>\n",
       "      <th>...</th>\n",
       "      <th>Contact</th>\n",
       "      <th>Job Title</th>\n",
       "      <th>Role</th>\n",
       "      <th>Job Portal</th>\n",
       "      <th>Job Description</th>\n",
       "      <th>Benefits</th>\n",
       "      <th>skills</th>\n",
       "      <th>Responsibilities</th>\n",
       "      <th>Company</th>\n",
       "      <th>Company Profile</th>\n",
       "    </tr>\n",
       "  </thead>\n",
       "  <tbody>\n",
       "    <tr>\n",
       "      <th>0</th>\n",
       "      <td>1089843540111562</td>\n",
       "      <td>5 to 15 Years</td>\n",
       "      <td>M.Tech</td>\n",
       "      <td>$59K-$99K</td>\n",
       "      <td>Douglas</td>\n",
       "      <td>Isle of Man</td>\n",
       "      <td>54.2361</td>\n",
       "      <td>-4.5481</td>\n",
       "      <td>Intern</td>\n",
       "      <td>26801</td>\n",
       "      <td>...</td>\n",
       "      <td>001-381-930-7517x737</td>\n",
       "      <td>Digital Marketing Specialist</td>\n",
       "      <td>Social Media Manager</td>\n",
       "      <td>Snagajob</td>\n",
       "      <td>Social Media Managers oversee an organizations...</td>\n",
       "      <td>{'Flexible Spending Accounts (FSAs), Relocatio...</td>\n",
       "      <td>Social media platforms (e.g., Facebook, Twitte...</td>\n",
       "      <td>Manage and grow social media accounts, create ...</td>\n",
       "      <td>Icahn Enterprises</td>\n",
       "      <td>\"{\"\"Sector\"\":\"\"Diversified\"\"</td>\n",
       "    </tr>\n",
       "    <tr>\n",
       "      <th>1</th>\n",
       "      <td>398454096642776</td>\n",
       "      <td>2 to 12 Years</td>\n",
       "      <td>BCA</td>\n",
       "      <td>$56K-$116K</td>\n",
       "      <td>Ashgabat</td>\n",
       "      <td>Turkmenistan</td>\n",
       "      <td>38.9697</td>\n",
       "      <td>59.5563</td>\n",
       "      <td>Intern</td>\n",
       "      <td>100340</td>\n",
       "      <td>...</td>\n",
       "      <td>461-509-4216</td>\n",
       "      <td>Web Developer</td>\n",
       "      <td>Frontend Web Developer</td>\n",
       "      <td>Idealist</td>\n",
       "      <td>Frontend Web Developers design and implement u...</td>\n",
       "      <td>{'Health Insurance, Retirement Plans, Paid Tim...</td>\n",
       "      <td>HTML, CSS, JavaScript Frontend frameworks (e.g...</td>\n",
       "      <td>Design and code user interfaces for websites, ...</td>\n",
       "      <td>PNC Financial Services Group</td>\n",
       "      <td>\"{\"\"Sector\"\":\"\"Financial Services\"\"</td>\n",
       "    </tr>\n",
       "    <tr>\n",
       "      <th>2</th>\n",
       "      <td>481640072963533</td>\n",
       "      <td>0 to 12 Years</td>\n",
       "      <td>PhD</td>\n",
       "      <td>$61K-$104K</td>\n",
       "      <td>Macao</td>\n",
       "      <td>Macao SAR, China</td>\n",
       "      <td>22.1987</td>\n",
       "      <td>113.5439</td>\n",
       "      <td>Temporary</td>\n",
       "      <td>84525</td>\n",
       "      <td>...</td>\n",
       "      <td>9687619505</td>\n",
       "      <td>Operations Manager</td>\n",
       "      <td>Quality Control Manager</td>\n",
       "      <td>Jobs2Careers</td>\n",
       "      <td>Quality Control Managers establish and enforce...</td>\n",
       "      <td>{'Legal Assistance, Bonuses and Incentive Prog...</td>\n",
       "      <td>Quality control processes and methodologies St...</td>\n",
       "      <td>Establish and enforce quality control standard...</td>\n",
       "      <td>United Services Automobile Assn.</td>\n",
       "      <td>\"{\"\"Sector\"\":\"\"Insurance\"\"</td>\n",
       "    </tr>\n",
       "  </tbody>\n",
       "</table>\n",
       "<p>3 rows × 23 columns</p>\n",
       "</div>"
      ],
      "text/plain": [
       "             Job Id     Experience Qualifications Salary Range  location  \\\n",
       "0  1089843540111562  5 to 15 Years         M.Tech    $59K-$99K   Douglas   \n",
       "1   398454096642776  2 to 12 Years            BCA   $56K-$116K  Ashgabat   \n",
       "2   481640072963533  0 to 12 Years            PhD   $61K-$104K     Macao   \n",
       "\n",
       "            Country  latitude  longitude  Work Type  Company Size  ...  \\\n",
       "0       Isle of Man   54.2361    -4.5481     Intern         26801  ...   \n",
       "1      Turkmenistan   38.9697    59.5563     Intern        100340  ...   \n",
       "2  Macao SAR, China   22.1987   113.5439  Temporary         84525  ...   \n",
       "\n",
       "                Contact                     Job Title  \\\n",
       "0  001-381-930-7517x737  Digital Marketing Specialist   \n",
       "1          461-509-4216                 Web Developer   \n",
       "2            9687619505            Operations Manager   \n",
       "\n",
       "                      Role    Job Portal  \\\n",
       "0     Social Media Manager      Snagajob   \n",
       "1   Frontend Web Developer      Idealist   \n",
       "2  Quality Control Manager  Jobs2Careers   \n",
       "\n",
       "                                     Job Description  \\\n",
       "0  Social Media Managers oversee an organizations...   \n",
       "1  Frontend Web Developers design and implement u...   \n",
       "2  Quality Control Managers establish and enforce...   \n",
       "\n",
       "                                            Benefits  \\\n",
       "0  {'Flexible Spending Accounts (FSAs), Relocatio...   \n",
       "1  {'Health Insurance, Retirement Plans, Paid Tim...   \n",
       "2  {'Legal Assistance, Bonuses and Incentive Prog...   \n",
       "\n",
       "                                              skills  \\\n",
       "0  Social media platforms (e.g., Facebook, Twitte...   \n",
       "1  HTML, CSS, JavaScript Frontend frameworks (e.g...   \n",
       "2  Quality control processes and methodologies St...   \n",
       "\n",
       "                                    Responsibilities  \\\n",
       "0  Manage and grow social media accounts, create ...   \n",
       "1  Design and code user interfaces for websites, ...   \n",
       "2  Establish and enforce quality control standard...   \n",
       "\n",
       "                            Company                      Company Profile  \n",
       "0                 Icahn Enterprises         \"{\"\"Sector\"\":\"\"Diversified\"\"  \n",
       "1      PNC Financial Services Group  \"{\"\"Sector\"\":\"\"Financial Services\"\"  \n",
       "2  United Services Automobile Assn.           \"{\"\"Sector\"\":\"\"Insurance\"\"  \n",
       "\n",
       "[3 rows x 23 columns]"
      ]
     },
     "execution_count": 2,
     "metadata": {},
     "output_type": "execute_result"
    }
   ],
   "source": [
    "df = spark.read.option('inferSchema', True).csv('job_descriptions.csv', header=True)\n",
    "df.limit(3).toPandas()"
   ]
  },
  {
   "cell_type": "code",
   "execution_count": 3,
   "id": "e3086cba-9aab-4263-a203-f300e26b6d05",
   "metadata": {},
   "outputs": [
    {
     "name": "stdout",
     "output_type": "stream",
     "text": [
      "root\n",
      " |-- Job Id: long (nullable = true)\n",
      " |-- Experience: string (nullable = true)\n",
      " |-- Qualifications: string (nullable = true)\n",
      " |-- Salary Range: string (nullable = true)\n",
      " |-- location: string (nullable = true)\n",
      " |-- Country: string (nullable = true)\n",
      " |-- latitude: double (nullable = true)\n",
      " |-- longitude: double (nullable = true)\n",
      " |-- Work Type: string (nullable = true)\n",
      " |-- Company Size: integer (nullable = true)\n",
      " |-- Job Posting Date: date (nullable = true)\n",
      " |-- Preference: string (nullable = true)\n",
      " |-- Contact Person: string (nullable = true)\n",
      " |-- Contact: string (nullable = true)\n",
      " |-- Job Title: string (nullable = true)\n",
      " |-- Role: string (nullable = true)\n",
      " |-- Job Portal: string (nullable = true)\n",
      " |-- Job Description: string (nullable = true)\n",
      " |-- Benefits: string (nullable = true)\n",
      " |-- skills: string (nullable = true)\n",
      " |-- Responsibilities: string (nullable = true)\n",
      " |-- Company: string (nullable = true)\n",
      " |-- Company Profile: string (nullable = true)\n",
      "\n"
     ]
    }
   ],
   "source": [
    "df.printSchema()"
   ]
  },
  {
   "cell_type": "markdown",
   "id": "bbd909b2-c542-4189-a1a1-27b92a1d5aa1",
   "metadata": {},
   "source": [
    "### Removing Unnecessary Features"
   ]
  },
  {
   "cell_type": "code",
   "execution_count": 4,
   "id": "0c3014b5-50e3-48df-95e9-5b9cb83a0b01",
   "metadata": {},
   "outputs": [
    {
     "data": {
      "text/html": [
       "<div>\n",
       "<style scoped>\n",
       "    .dataframe tbody tr th:only-of-type {\n",
       "        vertical-align: middle;\n",
       "    }\n",
       "\n",
       "    .dataframe tbody tr th {\n",
       "        vertical-align: top;\n",
       "    }\n",
       "\n",
       "    .dataframe thead th {\n",
       "        text-align: right;\n",
       "    }\n",
       "</style>\n",
       "<table border=\"1\" class=\"dataframe\">\n",
       "  <thead>\n",
       "    <tr style=\"text-align: right;\">\n",
       "      <th></th>\n",
       "      <th>Experience</th>\n",
       "      <th>Qualifications</th>\n",
       "      <th>Salary Range</th>\n",
       "      <th>location</th>\n",
       "      <th>Country</th>\n",
       "      <th>latitude</th>\n",
       "      <th>longitude</th>\n",
       "      <th>Work Type</th>\n",
       "      <th>Company Size</th>\n",
       "      <th>Job Posting Date</th>\n",
       "      <th>Preference</th>\n",
       "      <th>Job Title</th>\n",
       "      <th>Role</th>\n",
       "      <th>Job Portal</th>\n",
       "      <th>Job Description</th>\n",
       "      <th>Benefits</th>\n",
       "      <th>skills</th>\n",
       "      <th>Responsibilities</th>\n",
       "      <th>Company</th>\n",
       "      <th>Company Profile</th>\n",
       "    </tr>\n",
       "  </thead>\n",
       "  <tbody>\n",
       "    <tr>\n",
       "      <th>0</th>\n",
       "      <td>5 to 15 Years</td>\n",
       "      <td>M.Tech</td>\n",
       "      <td>$59K-$99K</td>\n",
       "      <td>Douglas</td>\n",
       "      <td>Isle of Man</td>\n",
       "      <td>54.2361</td>\n",
       "      <td>-4.5481</td>\n",
       "      <td>Intern</td>\n",
       "      <td>26801</td>\n",
       "      <td>2022-04-24</td>\n",
       "      <td>Female</td>\n",
       "      <td>Digital Marketing Specialist</td>\n",
       "      <td>Social Media Manager</td>\n",
       "      <td>Snagajob</td>\n",
       "      <td>Social Media Managers oversee an organizations...</td>\n",
       "      <td>{'Flexible Spending Accounts (FSAs), Relocatio...</td>\n",
       "      <td>Social media platforms (e.g., Facebook, Twitte...</td>\n",
       "      <td>Manage and grow social media accounts, create ...</td>\n",
       "      <td>Icahn Enterprises</td>\n",
       "      <td>\"{\"\"Sector\"\":\"\"Diversified\"\"</td>\n",
       "    </tr>\n",
       "    <tr>\n",
       "      <th>1</th>\n",
       "      <td>2 to 12 Years</td>\n",
       "      <td>BCA</td>\n",
       "      <td>$56K-$116K</td>\n",
       "      <td>Ashgabat</td>\n",
       "      <td>Turkmenistan</td>\n",
       "      <td>38.9697</td>\n",
       "      <td>59.5563</td>\n",
       "      <td>Intern</td>\n",
       "      <td>100340</td>\n",
       "      <td>2022-12-19</td>\n",
       "      <td>Female</td>\n",
       "      <td>Web Developer</td>\n",
       "      <td>Frontend Web Developer</td>\n",
       "      <td>Idealist</td>\n",
       "      <td>Frontend Web Developers design and implement u...</td>\n",
       "      <td>{'Health Insurance, Retirement Plans, Paid Tim...</td>\n",
       "      <td>HTML, CSS, JavaScript Frontend frameworks (e.g...</td>\n",
       "      <td>Design and code user interfaces for websites, ...</td>\n",
       "      <td>PNC Financial Services Group</td>\n",
       "      <td>\"{\"\"Sector\"\":\"\"Financial Services\"\"</td>\n",
       "    </tr>\n",
       "    <tr>\n",
       "      <th>2</th>\n",
       "      <td>0 to 12 Years</td>\n",
       "      <td>PhD</td>\n",
       "      <td>$61K-$104K</td>\n",
       "      <td>Macao</td>\n",
       "      <td>Macao SAR, China</td>\n",
       "      <td>22.1987</td>\n",
       "      <td>113.5439</td>\n",
       "      <td>Temporary</td>\n",
       "      <td>84525</td>\n",
       "      <td>2022-09-14</td>\n",
       "      <td>Male</td>\n",
       "      <td>Operations Manager</td>\n",
       "      <td>Quality Control Manager</td>\n",
       "      <td>Jobs2Careers</td>\n",
       "      <td>Quality Control Managers establish and enforce...</td>\n",
       "      <td>{'Legal Assistance, Bonuses and Incentive Prog...</td>\n",
       "      <td>Quality control processes and methodologies St...</td>\n",
       "      <td>Establish and enforce quality control standard...</td>\n",
       "      <td>United Services Automobile Assn.</td>\n",
       "      <td>\"{\"\"Sector\"\":\"\"Insurance\"\"</td>\n",
       "    </tr>\n",
       "  </tbody>\n",
       "</table>\n",
       "</div>"
      ],
      "text/plain": [
       "      Experience Qualifications Salary Range  location           Country  \\\n",
       "0  5 to 15 Years         M.Tech    $59K-$99K   Douglas       Isle of Man   \n",
       "1  2 to 12 Years            BCA   $56K-$116K  Ashgabat      Turkmenistan   \n",
       "2  0 to 12 Years            PhD   $61K-$104K     Macao  Macao SAR, China   \n",
       "\n",
       "   latitude  longitude  Work Type  Company Size Job Posting Date Preference  \\\n",
       "0   54.2361    -4.5481     Intern         26801       2022-04-24     Female   \n",
       "1   38.9697    59.5563     Intern        100340       2022-12-19     Female   \n",
       "2   22.1987   113.5439  Temporary         84525       2022-09-14       Male   \n",
       "\n",
       "                      Job Title                     Role    Job Portal  \\\n",
       "0  Digital Marketing Specialist     Social Media Manager      Snagajob   \n",
       "1                 Web Developer   Frontend Web Developer      Idealist   \n",
       "2            Operations Manager  Quality Control Manager  Jobs2Careers   \n",
       "\n",
       "                                     Job Description  \\\n",
       "0  Social Media Managers oversee an organizations...   \n",
       "1  Frontend Web Developers design and implement u...   \n",
       "2  Quality Control Managers establish and enforce...   \n",
       "\n",
       "                                            Benefits  \\\n",
       "0  {'Flexible Spending Accounts (FSAs), Relocatio...   \n",
       "1  {'Health Insurance, Retirement Plans, Paid Tim...   \n",
       "2  {'Legal Assistance, Bonuses and Incentive Prog...   \n",
       "\n",
       "                                              skills  \\\n",
       "0  Social media platforms (e.g., Facebook, Twitte...   \n",
       "1  HTML, CSS, JavaScript Frontend frameworks (e.g...   \n",
       "2  Quality control processes and methodologies St...   \n",
       "\n",
       "                                    Responsibilities  \\\n",
       "0  Manage and grow social media accounts, create ...   \n",
       "1  Design and code user interfaces for websites, ...   \n",
       "2  Establish and enforce quality control standard...   \n",
       "\n",
       "                            Company                      Company Profile  \n",
       "0                 Icahn Enterprises         \"{\"\"Sector\"\":\"\"Diversified\"\"  \n",
       "1      PNC Financial Services Group  \"{\"\"Sector\"\":\"\"Financial Services\"\"  \n",
       "2  United Services Automobile Assn.           \"{\"\"Sector\"\":\"\"Insurance\"\"  "
      ]
     },
     "execution_count": 4,
     "metadata": {},
     "output_type": "execute_result"
    }
   ],
   "source": [
    "features_to_exclude = ['Job Id', 'Contact', 'Contact Person']  \n",
    "selected_features = [col for col in df.columns if col not in features_to_exclude]\n",
    "df = df.select(selected_features)\n",
    "df.limit(3).toPandas()"
   ]
  },
  {
   "cell_type": "markdown",
   "id": "3dfb021e-0130-496d-99c3-7e56c762f452",
   "metadata": {},
   "source": [
    "### Handling Missing Values "
   ]
  },
  {
   "cell_type": "code",
   "execution_count": 5,
   "id": "933cd728-3b84-49ec-8418-43802eb7dd28",
   "metadata": {},
   "outputs": [
    {
     "name": "stderr",
     "output_type": "stream",
     "text": [
      "                                                                                \r"
     ]
    },
    {
     "name": "stdout",
     "output_type": "stream",
     "text": [
      "Column 'Experience' has 0 missing values.\n"
     ]
    },
    {
     "name": "stderr",
     "output_type": "stream",
     "text": [
      "                                                                                \r"
     ]
    },
    {
     "name": "stdout",
     "output_type": "stream",
     "text": [
      "Column 'Qualifications' has 0 missing values.\n"
     ]
    },
    {
     "name": "stderr",
     "output_type": "stream",
     "text": [
      "                                                                                \r"
     ]
    },
    {
     "name": "stdout",
     "output_type": "stream",
     "text": [
      "Column 'Salary Range' has 0 missing values.\n"
     ]
    },
    {
     "name": "stderr",
     "output_type": "stream",
     "text": [
      "                                                                                \r"
     ]
    },
    {
     "name": "stdout",
     "output_type": "stream",
     "text": [
      "Column 'location' has 0 missing values.\n"
     ]
    },
    {
     "name": "stderr",
     "output_type": "stream",
     "text": [
      "                                                                                \r"
     ]
    },
    {
     "name": "stdout",
     "output_type": "stream",
     "text": [
      "Column 'Country' has 0 missing values.\n"
     ]
    },
    {
     "name": "stderr",
     "output_type": "stream",
     "text": [
      "                                                                                \r"
     ]
    },
    {
     "name": "stdout",
     "output_type": "stream",
     "text": [
      "Column 'latitude' has 0 missing values.\n"
     ]
    },
    {
     "name": "stderr",
     "output_type": "stream",
     "text": [
      "                                                                                \r"
     ]
    },
    {
     "name": "stdout",
     "output_type": "stream",
     "text": [
      "Column 'longitude' has 0 missing values.\n"
     ]
    },
    {
     "name": "stderr",
     "output_type": "stream",
     "text": [
      "                                                                                \r"
     ]
    },
    {
     "name": "stdout",
     "output_type": "stream",
     "text": [
      "Column 'Work Type' has 0 missing values.\n"
     ]
    },
    {
     "name": "stderr",
     "output_type": "stream",
     "text": [
      "                                                                                \r"
     ]
    },
    {
     "name": "stdout",
     "output_type": "stream",
     "text": [
      "Column 'Company Size' has 0 missing values.\n"
     ]
    },
    {
     "name": "stderr",
     "output_type": "stream",
     "text": [
      "                                                                                \r"
     ]
    },
    {
     "name": "stdout",
     "output_type": "stream",
     "text": [
      "Column 'Job Posting Date' has 0 missing values.\n"
     ]
    },
    {
     "name": "stderr",
     "output_type": "stream",
     "text": [
      "                                                                                \r"
     ]
    },
    {
     "name": "stdout",
     "output_type": "stream",
     "text": [
      "Column 'Preference' has 0 missing values.\n"
     ]
    },
    {
     "name": "stderr",
     "output_type": "stream",
     "text": [
      "                                                                                \r"
     ]
    },
    {
     "name": "stdout",
     "output_type": "stream",
     "text": [
      "Column 'Job Title' has 0 missing values.\n"
     ]
    },
    {
     "name": "stderr",
     "output_type": "stream",
     "text": [
      "                                                                                \r"
     ]
    },
    {
     "name": "stdout",
     "output_type": "stream",
     "text": [
      "Column 'Role' has 0 missing values.\n"
     ]
    },
    {
     "name": "stderr",
     "output_type": "stream",
     "text": [
      "                                                                                \r"
     ]
    },
    {
     "name": "stdout",
     "output_type": "stream",
     "text": [
      "Column 'Job Portal' has 0 missing values.\n"
     ]
    },
    {
     "name": "stderr",
     "output_type": "stream",
     "text": [
      "                                                                                \r"
     ]
    },
    {
     "name": "stdout",
     "output_type": "stream",
     "text": [
      "Column 'Job Description' has 0 missing values.\n"
     ]
    },
    {
     "name": "stderr",
     "output_type": "stream",
     "text": [
      "                                                                                \r"
     ]
    },
    {
     "name": "stdout",
     "output_type": "stream",
     "text": [
      "Column 'Benefits' has 0 missing values.\n"
     ]
    },
    {
     "name": "stderr",
     "output_type": "stream",
     "text": [
      "                                                                                \r"
     ]
    },
    {
     "name": "stdout",
     "output_type": "stream",
     "text": [
      "Column 'skills' has 0 missing values.\n"
     ]
    },
    {
     "name": "stderr",
     "output_type": "stream",
     "text": [
      "                                                                                \r"
     ]
    },
    {
     "name": "stdout",
     "output_type": "stream",
     "text": [
      "Column 'Responsibilities' has 0 missing values.\n"
     ]
    },
    {
     "name": "stderr",
     "output_type": "stream",
     "text": [
      "                                                                                \r"
     ]
    },
    {
     "name": "stdout",
     "output_type": "stream",
     "text": [
      "Column 'Company' has 0 missing values.\n"
     ]
    },
    {
     "name": "stderr",
     "output_type": "stream",
     "text": [
      "[Stage 61:===================================>                     (8 + 5) / 13]\r"
     ]
    },
    {
     "name": "stdout",
     "output_type": "stream",
     "text": [
      "Column 'Company Profile' has 5478 missing values.\n"
     ]
    },
    {
     "name": "stderr",
     "output_type": "stream",
     "text": [
      "                                                                                \r"
     ]
    }
   ],
   "source": [
    "for col_name in df.columns:\n",
    "    # Counting the number of null values in each column\n",
    "    missing_count = df.where(col(col_name).isNull()).count()\n",
    "    # Printing the count of missing values\n",
    "    print(f\"Column '{col_name}' has {missing_count} missing values.\")"
   ]
  },
  {
   "cell_type": "markdown",
   "id": "7213a1ba-b397-4f0c-a9fc-8bdc22e68817",
   "metadata": {},
   "source": [
    "Given the absence of missing values in all feature columns except for 'Company Profile', where 5478 values are missing, and considering the size and nature of the dataset, it's reasonable to assume that larger companies are more likely to have a higher frequency of job postings. However, initially using this assumption led to high errors in salary prediction.  Because with such a large number of missing values (5378), filling them with the mode would introduce bias towards the most common value. Therefore, I am reconsidering the data processing steps. This time, I have opted for K-nearest neighbors to fill the gaps as it considers neighborhood data, thus reducing bias. As a result changes are also expected in data analysis as well. "
   ]
  },
  {
   "cell_type": "code",
   "execution_count": 13,
   "id": "eddc6988-10b2-4b0f-a606-cf76e7bc41af",
   "metadata": {},
   "outputs": [
    {
     "name": "stderr",
     "output_type": "stream",
     "text": [
      "[Stage 100:==================================>                     (8 + 5) / 13]\r"
     ]
    },
    {
     "name": "stdout",
     "output_type": "stream",
     "text": [
      "Missing values in 'Company Profile' column have been successfully filled with KNN imputation.\n"
     ]
    },
    {
     "name": "stderr",
     "output_type": "stream",
     "text": [
      "                                                                                \r"
     ]
    }
   ],
   "source": [
    "from pyspark.ml.feature import VectorAssembler, StandardScaler, Imputer, StringIndexer\n",
    "from pyspark.sql.functions import col\n",
    "\n",
    "# Defining the categorical column\n",
    "categorical_col = \"Company Profile\"\n",
    "\n",
    "# Creating a StringIndexer for the categorical column\n",
    "indexer = StringIndexer(inputCol=categorical_col, outputCol=categorical_col+\"_index\", handleInvalid=\"keep\")\n",
    "indexer_model = indexer.fit(df)\n",
    "df_indexed = indexer_model.transform(df)\n",
    "\n",
    "# Imputing missing values using KNN\n",
    "imputer = Imputer(inputCols=[categorical_col+\"_index\"], outputCols=[\"imputed_\" + categorical_col], strategy=\"mode\")\n",
    "imputer_model = imputer.fit(df_indexed)\n",
    "df_imputed = imputer_model.transform(df_indexed)\n",
    "\n",
    "# Assembling the imputed column into a vector\n",
    "assembler = VectorAssembler(inputCols=[\"imputed_\" + categorical_col], outputCol=\"imputed_features\")\n",
    "df_assembled = assembler.transform(df_imputed)\n",
    "\n",
    "# Standardizing the features\n",
    "scaler = StandardScaler(inputCol=\"imputed_features\", outputCol=\"scaled_features\", withMean=True, withStd=True)\n",
    "scaler_model = scaler.fit(df_assembled)\n",
    "df_scaled = scaler_model.transform(df_assembled)\n",
    "\n",
    "# Updating the 'Company Profile' column with the scaled values\n",
    "df_scaled = df_scaled.withColumn(categorical_col, col(\"scaled_features\"))\n",
    "\n",
    "# Checking if there are any null values remaining in the 'Company Profile' column\n",
    "missing_count = df_scaled.where(col(categorical_col).isNull()).count()\n",
    "\n",
    "# Printing the result\n",
    "if missing_count == 0:\n",
    "    print(\"Missing values in '{}' column have been successfully filled with KNN imputation.\".format(categorical_col))\n",
    "else:\n",
    "    print(\"There are still missing values in '{}' column after filling.\".format(categorical_col))\n"
   ]
  },
  {
   "cell_type": "markdown",
   "id": "18d9b84d-b39e-4e4d-92dd-54473a2369ba",
   "metadata": {},
   "source": [
    "### Splitting Range Data"
   ]
  },
  {
   "cell_type": "code",
   "execution_count": 15,
   "id": "dc75ae63-3863-414d-9033-1b872340e315",
   "metadata": {},
   "outputs": [
    {
     "name": "stdout",
     "output_type": "stream",
     "text": [
      "+-------------+\n",
      "|   Experience|\n",
      "+-------------+\n",
      "|5 to 15 Years|\n",
      "|2 to 12 Years|\n",
      "|0 to 12 Years|\n",
      "|4 to 11 Years|\n",
      "|1 to 12 Years|\n",
      "+-------------+\n",
      "only showing top 5 rows\n",
      "\n",
      "+------------+\n",
      "|Salary Range|\n",
      "+------------+\n",
      "|   $59K-$99K|\n",
      "|  $56K-$116K|\n",
      "|  $61K-$104K|\n",
      "|   $65K-$91K|\n",
      "|   $64K-$87K|\n",
      "+------------+\n",
      "only showing top 5 rows\n",
      "\n"
     ]
    }
   ],
   "source": [
    "# Selecting and showing a particular column with range data\n",
    "df.select(\"Experience\").show(5)\n",
    "df.select(\"Salary Range\").show(5)"
   ]
  },
  {
   "cell_type": "code",
   "execution_count": 16,
   "id": "29bf9dba-f813-4fb3-8b24-51595527c808",
   "metadata": {},
   "outputs": [
    {
     "data": {
      "text/html": [
       "<div>\n",
       "<style scoped>\n",
       "    .dataframe tbody tr th:only-of-type {\n",
       "        vertical-align: middle;\n",
       "    }\n",
       "\n",
       "    .dataframe tbody tr th {\n",
       "        vertical-align: top;\n",
       "    }\n",
       "\n",
       "    .dataframe thead th {\n",
       "        text-align: right;\n",
       "    }\n",
       "</style>\n",
       "<table border=\"1\" class=\"dataframe\">\n",
       "  <thead>\n",
       "    <tr style=\"text-align: right;\">\n",
       "      <th></th>\n",
       "      <th>Experience</th>\n",
       "      <th>Qualifications</th>\n",
       "      <th>Salary Range</th>\n",
       "      <th>location</th>\n",
       "      <th>Country</th>\n",
       "      <th>latitude</th>\n",
       "      <th>longitude</th>\n",
       "      <th>Work Type</th>\n",
       "      <th>Company Size</th>\n",
       "      <th>Job Posting Date</th>\n",
       "      <th>...</th>\n",
       "      <th>Job Description</th>\n",
       "      <th>Benefits</th>\n",
       "      <th>skills</th>\n",
       "      <th>Responsibilities</th>\n",
       "      <th>Company</th>\n",
       "      <th>Company Profile</th>\n",
       "      <th>Min Salary</th>\n",
       "      <th>Max Salary</th>\n",
       "      <th>Min Exp</th>\n",
       "      <th>Max Exp</th>\n",
       "    </tr>\n",
       "  </thead>\n",
       "  <tbody>\n",
       "    <tr>\n",
       "      <th>0</th>\n",
       "      <td>5 to 15</td>\n",
       "      <td>M.Tech</td>\n",
       "      <td>59000-99000</td>\n",
       "      <td>Douglas</td>\n",
       "      <td>Isle of Man</td>\n",
       "      <td>54.2361</td>\n",
       "      <td>-4.5481</td>\n",
       "      <td>Intern</td>\n",
       "      <td>26801</td>\n",
       "      <td>2022-04-24</td>\n",
       "      <td>...</td>\n",
       "      <td>Social Media Managers oversee an organizations...</td>\n",
       "      <td>{'Flexible Spending Accounts (FSAs), Relocatio...</td>\n",
       "      <td>Social media platforms (e.g., Facebook, Twitte...</td>\n",
       "      <td>Manage and grow social media accounts, create ...</td>\n",
       "      <td>Icahn Enterprises</td>\n",
       "      <td>\"{\"\"Sector\"\":\"\"Diversified\"\"</td>\n",
       "      <td>59000</td>\n",
       "      <td>99000</td>\n",
       "      <td>5</td>\n",
       "      <td>15</td>\n",
       "    </tr>\n",
       "  </tbody>\n",
       "</table>\n",
       "<p>1 rows × 24 columns</p>\n",
       "</div>"
      ],
      "text/plain": [
       "  Experience Qualifications Salary Range location      Country  latitude  \\\n",
       "0    5 to 15         M.Tech  59000-99000  Douglas  Isle of Man   54.2361   \n",
       "\n",
       "   longitude Work Type  Company Size Job Posting Date  ...  \\\n",
       "0    -4.5481    Intern         26801       2022-04-24  ...   \n",
       "\n",
       "                                     Job Description  \\\n",
       "0  Social Media Managers oversee an organizations...   \n",
       "\n",
       "                                            Benefits  \\\n",
       "0  {'Flexible Spending Accounts (FSAs), Relocatio...   \n",
       "\n",
       "                                              skills  \\\n",
       "0  Social media platforms (e.g., Facebook, Twitte...   \n",
       "\n",
       "                                    Responsibilities            Company  \\\n",
       "0  Manage and grow social media accounts, create ...  Icahn Enterprises   \n",
       "\n",
       "                Company Profile Min Salary Max Salary Min Exp Max Exp  \n",
       "0  \"{\"\"Sector\"\":\"\"Diversified\"\"      59000      99000       5      15  \n",
       "\n",
       "[1 rows x 24 columns]"
      ]
     },
     "execution_count": 16,
     "metadata": {},
     "output_type": "execute_result"
    }
   ],
   "source": [
    "from pyspark.sql.functions import regexp_extract, split, lower, regexp_replace\n",
    "\n",
    "df = df.withColumn(\"Salary Range\", lower(regexp_replace(regexp_replace(df[\"Salary Range\"], r\"\\$\", \"\"), r\"K\", \"000\")))\n",
    "\n",
    "split_col = split(df['Salary Range'], '-')\n",
    "df_split = df.withColumn('Min Salary', split_col.getItem(0)).withColumn('Max Salary', split_col.getItem(1))\n",
    "\n",
    "# Removing 'Years' from 'Experience' column and convert to lowercase\n",
    "df_split = df_split.withColumn(\"Experience\", lower(regexp_replace(df_split[\"Experience\"], r\"\\s*Years\", \"\")))\n",
    "\n",
    "# Spliting the 'Experience' column at 'to'\n",
    "split_col = split(df_split['Experience'], ' to ')\n",
    "df_split = df_split.withColumn('Min Exp', split_col.getItem(0)).withColumn('Max Exp', split_col.getItem(1))\n",
    "\n",
    "# Showing the split results\n",
    "df_split.limit(1).toPandas()"
   ]
  },
  {
   "cell_type": "markdown",
   "id": "8bbc7cba-2ba9-456e-9da8-fae80baf8ce9",
   "metadata": {},
   "source": [
    "### Elimination of Duplicate Features"
   ]
  },
  {
   "cell_type": "code",
   "execution_count": 17,
   "id": "21da6660-50a7-463c-b91b-36114d7d5b65",
   "metadata": {},
   "outputs": [],
   "source": [
    "features_to_exclude = ['Experience', 'Salary Range']  \n",
    "selected_features = [col for col in df_split.columns if col not in features_to_exclude]\n",
    "df = df_split.select(selected_features)"
   ]
  },
  {
   "cell_type": "markdown",
   "id": "8cd344d0-2aa8-485e-8ceb-5ef5e59d24f6",
   "metadata": {},
   "source": [
    "###  Data Types Convertion"
   ]
  },
  {
   "cell_type": "code",
   "execution_count": 18,
   "id": "57db36e7-0fdc-48fb-b98d-b018f3504d24",
   "metadata": {},
   "outputs": [
    {
     "name": "stdout",
     "output_type": "stream",
     "text": [
      "root\n",
      " |-- Qualifications: string (nullable = true)\n",
      " |-- location: string (nullable = true)\n",
      " |-- Country: string (nullable = true)\n",
      " |-- latitude: double (nullable = true)\n",
      " |-- longitude: double (nullable = true)\n",
      " |-- Work Type: string (nullable = true)\n",
      " |-- Company Size: integer (nullable = true)\n",
      " |-- Job Posting Date: date (nullable = true)\n",
      " |-- Preference: string (nullable = true)\n",
      " |-- Job Title: string (nullable = true)\n",
      " |-- Role: string (nullable = true)\n",
      " |-- Job Portal: string (nullable = true)\n",
      " |-- Job Description: string (nullable = true)\n",
      " |-- Benefits: string (nullable = true)\n",
      " |-- skills: string (nullable = true)\n",
      " |-- Responsibilities: string (nullable = true)\n",
      " |-- Company: string (nullable = true)\n",
      " |-- Company Profile: string (nullable = true)\n",
      " |-- Min Salary: integer (nullable = true)\n",
      " |-- Max Salary: integer (nullable = true)\n",
      " |-- Min Exp: integer (nullable = true)\n",
      " |-- Max Exp: integer (nullable = true)\n",
      "\n"
     ]
    },
    {
     "data": {
      "text/html": [
       "<div>\n",
       "<style scoped>\n",
       "    .dataframe tbody tr th:only-of-type {\n",
       "        vertical-align: middle;\n",
       "    }\n",
       "\n",
       "    .dataframe tbody tr th {\n",
       "        vertical-align: top;\n",
       "    }\n",
       "\n",
       "    .dataframe thead th {\n",
       "        text-align: right;\n",
       "    }\n",
       "</style>\n",
       "<table border=\"1\" class=\"dataframe\">\n",
       "  <thead>\n",
       "    <tr style=\"text-align: right;\">\n",
       "      <th></th>\n",
       "      <th>Qualifications</th>\n",
       "      <th>location</th>\n",
       "      <th>Country</th>\n",
       "      <th>latitude</th>\n",
       "      <th>longitude</th>\n",
       "      <th>Work Type</th>\n",
       "      <th>Company Size</th>\n",
       "      <th>Job Posting Date</th>\n",
       "      <th>Preference</th>\n",
       "      <th>Job Title</th>\n",
       "      <th>...</th>\n",
       "      <th>Job Description</th>\n",
       "      <th>Benefits</th>\n",
       "      <th>skills</th>\n",
       "      <th>Responsibilities</th>\n",
       "      <th>Company</th>\n",
       "      <th>Company Profile</th>\n",
       "      <th>Min Salary</th>\n",
       "      <th>Max Salary</th>\n",
       "      <th>Min Exp</th>\n",
       "      <th>Max Exp</th>\n",
       "    </tr>\n",
       "  </thead>\n",
       "  <tbody>\n",
       "    <tr>\n",
       "      <th>0</th>\n",
       "      <td>M.Tech</td>\n",
       "      <td>Douglas</td>\n",
       "      <td>Isle of Man</td>\n",
       "      <td>54.2361</td>\n",
       "      <td>-4.5481</td>\n",
       "      <td>Intern</td>\n",
       "      <td>26801</td>\n",
       "      <td>2022-04-24</td>\n",
       "      <td>Female</td>\n",
       "      <td>Digital Marketing Specialist</td>\n",
       "      <td>...</td>\n",
       "      <td>Social Media Managers oversee an organizations...</td>\n",
       "      <td>{'Flexible Spending Accounts (FSAs), Relocatio...</td>\n",
       "      <td>Social media platforms (e.g., Facebook, Twitte...</td>\n",
       "      <td>Manage and grow social media accounts, create ...</td>\n",
       "      <td>Icahn Enterprises</td>\n",
       "      <td>\"{\"\"Sector\"\":\"\"Diversified\"\"</td>\n",
       "      <td>59000</td>\n",
       "      <td>99000</td>\n",
       "      <td>5</td>\n",
       "      <td>15</td>\n",
       "    </tr>\n",
       "  </tbody>\n",
       "</table>\n",
       "<p>1 rows × 22 columns</p>\n",
       "</div>"
      ],
      "text/plain": [
       "  Qualifications location      Country  latitude  longitude Work Type  \\\n",
       "0         M.Tech  Douglas  Isle of Man   54.2361    -4.5481    Intern   \n",
       "\n",
       "   Company Size Job Posting Date Preference                     Job Title  \\\n",
       "0         26801       2022-04-24     Female  Digital Marketing Specialist   \n",
       "\n",
       "   ...                                    Job Description  \\\n",
       "0  ...  Social Media Managers oversee an organizations...   \n",
       "\n",
       "                                            Benefits  \\\n",
       "0  {'Flexible Spending Accounts (FSAs), Relocatio...   \n",
       "\n",
       "                                              skills  \\\n",
       "0  Social media platforms (e.g., Facebook, Twitte...   \n",
       "\n",
       "                                    Responsibilities            Company  \\\n",
       "0  Manage and grow social media accounts, create ...  Icahn Enterprises   \n",
       "\n",
       "                Company Profile Min Salary Max Salary  Min Exp  Max Exp  \n",
       "0  \"{\"\"Sector\"\":\"\"Diversified\"\"      59000      99000        5       15  \n",
       "\n",
       "[1 rows x 22 columns]"
      ]
     },
     "execution_count": 18,
     "metadata": {},
     "output_type": "execute_result"
    }
   ],
   "source": [
    "#Converting Datatypes\n",
    "df = df.withColumn(\"Min Salary\", col(\"Min Salary\").cast(\"integer\"))\n",
    "df = df.withColumn(\"Max Salary\", col(\"Max Salary\").cast(\"integer\"))\n",
    "df = df.withColumn(\"Min Exp\", col(\"Min Exp\").cast(\"integer\"))\n",
    "df = df.withColumn(\"Max Exp\", col(\"Max Exp\").cast(\"integer\"))\n",
    "df.printSchema()\n",
    "df.limit(1).toPandas()"
   ]
  },
  {
   "cell_type": "markdown",
   "id": "82009de4-5b83-4d4f-b8fe-4e91f8234024",
   "metadata": {},
   "source": [
    "### Saving the Processed Data "
   ]
  },
  {
   "cell_type": "code",
   "execution_count": 38,
   "id": "ba831c2d-1147-40a7-bf69-3df68f52dfc3",
   "metadata": {},
   "outputs": [
    {
     "name": "stderr",
     "output_type": "stream",
     "text": [
      "[Stage 111:==============================>                         (7 + 1) / 13]\r"
     ]
    }
   ],
   "source": [
    "import os\n",
    "\n",
    "# Specifying the desired file name for the CSV file\n",
    "output_filename = \"processed_job_descriptions.csv\"\n",
    "\n",
    "# Coalescing the DataFrame into a single partition before saving\n",
    "df.coalesce(1).write.option(\"header\", \"true\").csv(\"data\", mode=\"overwrite\")\n",
    "\n",
    "# Renaming the CSV file to the desired filename\n",
    "for file in os.listdir(\"data\"):\n",
    "    if file.startswith(\"part-\") and file.endswith(\".csv\"):\n",
    "        os.rename(os.path.join(\"data\", file), output_filename)\n",
    "        break\n"
   ]
  },
  {
   "cell_type": "code",
   "execution_count": null,
   "id": "b60b0427-74e8-412b-bdab-29c21a8dc8f7",
   "metadata": {},
   "outputs": [],
   "source": [
    "The processed data has been saved as \"processed_job_descriptions.csv\", which will be utilized for further analysis."
   ]
  }
 ],
 "metadata": {
  "kernelspec": {
   "display_name": "Python 3 (ipykernel)",
   "language": "python",
   "name": "python3"
  },
  "language_info": {
   "codemirror_mode": {
    "name": "ipython",
    "version": 3
   },
   "file_extension": ".py",
   "mimetype": "text/x-python",
   "name": "python",
   "nbconvert_exporter": "python",
   "pygments_lexer": "ipython3",
   "version": "3.11.5"
  }
 },
 "nbformat": 4,
 "nbformat_minor": 5
}
