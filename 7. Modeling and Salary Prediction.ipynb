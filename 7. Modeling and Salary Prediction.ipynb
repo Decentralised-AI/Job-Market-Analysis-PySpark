{
 "cells": [
  {
   "cell_type": "markdown",
   "id": "884cf932-758e-4899-9424-f14930555574",
   "metadata": {},
   "source": [
    "# 7. Modeling and Salary Prediction using Scikit-learn\n",
    "\n",
    " In this notebook, I conducted correlation analysis to explore the relationships between features and both maximum and minimum salaries.\n",
    "The goal was to identify significant features relevant to predicting salaries.\n",
    "\n",
    "## Notebook Overview:\n",
    " - Importing Required Libraries: We begin by installing scikit-learn and importing all necessary resources for data processing, modeling, tuning, and testing the models.\n",
    "\n",
    " - Loading Data: The dataset \"processed_job_descriptions.csv,\" previously processed, will be loaded to initiate data exploration and further processing using PySpark functionalities.\n",
    "\n",
    " - Data Preprocessing: Data preprocessing steps include one-hot encoding, feature scaling, and splitting into 80:20 ratio for training and testing.\n",
    "\n",
    " - Modeling, Training, Tuning, and Testing: This step involves training and evaluating individual models, starting from linear regression to XGBoost. We apply 5-fold cross-validation for generalization and grid search for tuning hyperparameters. Performance evaluation on the testing set (20% of the data) will be based on Mean Squared Error and R2 score.\n",
    "\n",
    " - Visualization of Performance: Matplotlib will be utilized to visualize the performance measures for all models.\n",
    "\n",
    "By following these steps, we aim to build robust models for salary prediction, leveraging scikit-learn's powerful machine learning capabilities. \n"
   ]
  },
  {
   "cell_type": "code",
   "execution_count": null,
   "id": "ce0b6b76-9c64-45d8-b99d-5c1099058ff0",
   "metadata": {},
   "outputs": [],
   "source": [
    "pip install scikit-learn"
   ]
  },
  {
   "cell_type": "markdown",
   "id": "4af586fe-58b2-4095-bb79-34467e8f0594",
   "metadata": {},
   "source": [
    "### Importing Required Resoucres"
   ]
  },
  {
   "cell_type": "code",
   "execution_count": 1,
   "id": "7619d068-8cc9-48c9-b259-f4c3c9a338b0",
   "metadata": {},
   "outputs": [],
   "source": [
    "import pandas as pd\n",
    "import numpy as np\n",
    "import matplotlib.pyplot as plt\n",
    "from sklearn.model_selection import train_test_split, GridSearchCV\n",
    "from sklearn.preprocessing import StandardScaler\n",
    "from sklearn.linear_model import LinearRegression, Lasso, Ridge\n",
    "from sklearn.tree import DecisionTreeRegressor\n",
    "from xgboost import XGBRegressor\n",
    "from sklearn.ensemble import GradientBoostingRegressor, RandomForestRegressor\n",
    "from sklearn.metrics import mean_squared_error, r2_score"
   ]
  },
  {
   "cell_type": "markdown",
   "id": "429f52a0-6b6a-48c5-a8cc-bd7d3eb559aa",
   "metadata": {},
   "source": [
    "### Data Preprocessing"
   ]
  },
  {
   "cell_type": "code",
   "execution_count": 2,
   "id": "77697fd5-c965-4448-9618-57b1cfc95d36",
   "metadata": {},
   "outputs": [],
   "source": [
    "import warnings\n",
    "# Ignore all warnings\n",
    "warnings.simplefilter(\"ignore\")\n",
    "\n",
    "# Loading dataset\n",
    "data = pd.read_csv('processed_job_descriptions.csv')\n",
    "\n",
    "# Selecting 100,000 data points randomly\n",
    "data_sample = data.sample(n=100, random_state=42)\n",
    "\n",
    "# Separate features and target variables\n",
    "X = data_sample.drop(['Max Salary', 'Min Salary'], axis=1)\n",
    "y = data_sample[['Max Salary', 'Min Salary']]\n",
    "\n",
    "# Identify categorical columns\n",
    "categorical_cols = [col for col in X.columns if X[col].dtype == 'object']\n",
    "\n",
    "# Perform one-hot encoding for categorical variables\n",
    "X_encoded = pd.get_dummies(X, columns=categorical_cols, drop_first=True)\n",
    "\n",
    "# Split the encoded data into training and testing sets\n",
    "X_train_encoded, X_test_encoded, y_train, y_test = train_test_split(X_encoded, y, test_size=0.2, random_state=42)\n",
    "\n",
    "# Feature scaling\n",
    "scaler_encoded = StandardScaler()\n",
    "X_train = scaler_encoded.fit_transform(X_train_encoded)\n",
    "X_test = scaler_encoded.transform(X_test_encoded)"
   ]
  },
  {
   "cell_type": "code",
   "execution_count": 8,
   "id": "690f5fd8-87bc-460d-9a6d-5945afcb27e9",
   "metadata": {},
   "outputs": [
    {
     "ename": "KeyboardInterrupt",
     "evalue": "",
     "output_type": "error",
     "traceback": [
      "\u001b[0;31m---------------------------------------------------------------------------\u001b[0m",
      "\u001b[0;31mKeyboardInterrupt\u001b[0m                         Traceback (most recent call last)",
      "Cell \u001b[0;32mIn[8], line 11\u001b[0m\n\u001b[1;32m      9\u001b[0m \u001b[38;5;66;03m# Recursive Feature Elimination\u001b[39;00m\n\u001b[1;32m     10\u001b[0m rfe \u001b[38;5;241m=\u001b[39m RFE(estimator\u001b[38;5;241m=\u001b[39mLinearRegression(), n_features_to_select\u001b[38;5;241m=\u001b[39m\u001b[38;5;241m10\u001b[39m)\n\u001b[0;32m---> 11\u001b[0m X_train_rfe \u001b[38;5;241m=\u001b[39m rfe\u001b[38;5;241m.\u001b[39mfit_transform(X_train_poly, y_train)\n\u001b[1;32m     12\u001b[0m X_test_rfe \u001b[38;5;241m=\u001b[39m rfe\u001b[38;5;241m.\u001b[39mtransform(X_test_poly)\n\u001b[1;32m     14\u001b[0m \u001b[38;5;66;03m# Get selected feature names\u001b[39;00m\n",
      "File \u001b[0;32m~/anaconda3/envs/torch/lib/python3.11/site-packages/sklearn/utils/_set_output.py:140\u001b[0m, in \u001b[0;36m_wrap_method_output.<locals>.wrapped\u001b[0;34m(self, X, *args, **kwargs)\u001b[0m\n\u001b[1;32m    138\u001b[0m \u001b[38;5;129m@wraps\u001b[39m(f)\n\u001b[1;32m    139\u001b[0m \u001b[38;5;28;01mdef\u001b[39;00m \u001b[38;5;21mwrapped\u001b[39m(\u001b[38;5;28mself\u001b[39m, X, \u001b[38;5;241m*\u001b[39margs, \u001b[38;5;241m*\u001b[39m\u001b[38;5;241m*\u001b[39mkwargs):\n\u001b[0;32m--> 140\u001b[0m     data_to_wrap \u001b[38;5;241m=\u001b[39m f(\u001b[38;5;28mself\u001b[39m, X, \u001b[38;5;241m*\u001b[39margs, \u001b[38;5;241m*\u001b[39m\u001b[38;5;241m*\u001b[39mkwargs)\n\u001b[1;32m    141\u001b[0m     \u001b[38;5;28;01mif\u001b[39;00m \u001b[38;5;28misinstance\u001b[39m(data_to_wrap, \u001b[38;5;28mtuple\u001b[39m):\n\u001b[1;32m    142\u001b[0m         \u001b[38;5;66;03m# only wrap the first output for cross decomposition\u001b[39;00m\n\u001b[1;32m    143\u001b[0m         \u001b[38;5;28;01mreturn\u001b[39;00m (\n\u001b[1;32m    144\u001b[0m             _wrap_data_with_container(method, data_to_wrap[\u001b[38;5;241m0\u001b[39m], X, \u001b[38;5;28mself\u001b[39m),\n\u001b[1;32m    145\u001b[0m             \u001b[38;5;241m*\u001b[39mdata_to_wrap[\u001b[38;5;241m1\u001b[39m:],\n\u001b[1;32m    146\u001b[0m         )\n",
      "File \u001b[0;32m~/anaconda3/envs/torch/lib/python3.11/site-packages/sklearn/base.py:881\u001b[0m, in \u001b[0;36mTransformerMixin.fit_transform\u001b[0;34m(self, X, y, **fit_params)\u001b[0m\n\u001b[1;32m    878\u001b[0m     \u001b[38;5;28;01mreturn\u001b[39;00m \u001b[38;5;28mself\u001b[39m\u001b[38;5;241m.\u001b[39mfit(X, \u001b[38;5;241m*\u001b[39m\u001b[38;5;241m*\u001b[39mfit_params)\u001b[38;5;241m.\u001b[39mtransform(X)\n\u001b[1;32m    879\u001b[0m \u001b[38;5;28;01melse\u001b[39;00m:\n\u001b[1;32m    880\u001b[0m     \u001b[38;5;66;03m# fit method of arity 2 (supervised transformation)\u001b[39;00m\n\u001b[0;32m--> 881\u001b[0m     \u001b[38;5;28;01mreturn\u001b[39;00m \u001b[38;5;28mself\u001b[39m\u001b[38;5;241m.\u001b[39mfit(X, y, \u001b[38;5;241m*\u001b[39m\u001b[38;5;241m*\u001b[39mfit_params)\u001b[38;5;241m.\u001b[39mtransform(X)\n",
      "File \u001b[0;32m~/anaconda3/envs/torch/lib/python3.11/site-packages/sklearn/feature_selection/_rfe.py:251\u001b[0m, in \u001b[0;36mRFE.fit\u001b[0;34m(self, X, y, **fit_params)\u001b[0m\n\u001b[1;32m    231\u001b[0m \u001b[38;5;250m\u001b[39m\u001b[38;5;124;03m\"\"\"Fit the RFE model and then the underlying estimator on the selected features.\u001b[39;00m\n\u001b[1;32m    232\u001b[0m \n\u001b[1;32m    233\u001b[0m \u001b[38;5;124;03mParameters\u001b[39;00m\n\u001b[0;32m   (...)\u001b[0m\n\u001b[1;32m    248\u001b[0m \u001b[38;5;124;03m    Fitted estimator.\u001b[39;00m\n\u001b[1;32m    249\u001b[0m \u001b[38;5;124;03m\"\"\"\u001b[39;00m\n\u001b[1;32m    250\u001b[0m \u001b[38;5;28mself\u001b[39m\u001b[38;5;241m.\u001b[39m_validate_params()\n\u001b[0;32m--> 251\u001b[0m \u001b[38;5;28;01mreturn\u001b[39;00m \u001b[38;5;28mself\u001b[39m\u001b[38;5;241m.\u001b[39m_fit(X, y, \u001b[38;5;241m*\u001b[39m\u001b[38;5;241m*\u001b[39mfit_params)\n",
      "File \u001b[0;32m~/anaconda3/envs/torch/lib/python3.11/site-packages/sklearn/feature_selection/_rfe.py:299\u001b[0m, in \u001b[0;36mRFE._fit\u001b[0;34m(self, X, y, step_score, **fit_params)\u001b[0m\n\u001b[1;32m    296\u001b[0m \u001b[38;5;28;01mif\u001b[39;00m \u001b[38;5;28mself\u001b[39m\u001b[38;5;241m.\u001b[39mverbose \u001b[38;5;241m>\u001b[39m \u001b[38;5;241m0\u001b[39m:\n\u001b[1;32m    297\u001b[0m     \u001b[38;5;28mprint\u001b[39m(\u001b[38;5;124m\"\u001b[39m\u001b[38;5;124mFitting estimator with \u001b[39m\u001b[38;5;132;01m%d\u001b[39;00m\u001b[38;5;124m features.\u001b[39m\u001b[38;5;124m\"\u001b[39m \u001b[38;5;241m%\u001b[39m np\u001b[38;5;241m.\u001b[39msum(support_))\n\u001b[0;32m--> 299\u001b[0m estimator\u001b[38;5;241m.\u001b[39mfit(X[:, features], y, \u001b[38;5;241m*\u001b[39m\u001b[38;5;241m*\u001b[39mfit_params)\n\u001b[1;32m    301\u001b[0m \u001b[38;5;66;03m# Get importance and rank them\u001b[39;00m\n\u001b[1;32m    302\u001b[0m importances \u001b[38;5;241m=\u001b[39m _get_feature_importances(\n\u001b[1;32m    303\u001b[0m     estimator,\n\u001b[1;32m    304\u001b[0m     \u001b[38;5;28mself\u001b[39m\u001b[38;5;241m.\u001b[39mimportance_getter,\n\u001b[1;32m    305\u001b[0m     transform_func\u001b[38;5;241m=\u001b[39m\u001b[38;5;124m\"\u001b[39m\u001b[38;5;124msquare\u001b[39m\u001b[38;5;124m\"\u001b[39m,\n\u001b[1;32m    306\u001b[0m )\n",
      "File \u001b[0;32m~/anaconda3/envs/torch/lib/python3.11/site-packages/sklearn/linear_model/_base.py:656\u001b[0m, in \u001b[0;36mLinearRegression.fit\u001b[0;34m(self, X, y, sample_weight)\u001b[0m\n\u001b[1;32m    648\u001b[0m X, y \u001b[38;5;241m=\u001b[39m \u001b[38;5;28mself\u001b[39m\u001b[38;5;241m.\u001b[39m_validate_data(\n\u001b[1;32m    649\u001b[0m     X, y, accept_sparse\u001b[38;5;241m=\u001b[39maccept_sparse, y_numeric\u001b[38;5;241m=\u001b[39m\u001b[38;5;28;01mTrue\u001b[39;00m, multi_output\u001b[38;5;241m=\u001b[39m\u001b[38;5;28;01mTrue\u001b[39;00m\n\u001b[1;32m    650\u001b[0m )\n\u001b[1;32m    652\u001b[0m sample_weight \u001b[38;5;241m=\u001b[39m _check_sample_weight(\n\u001b[1;32m    653\u001b[0m     sample_weight, X, dtype\u001b[38;5;241m=\u001b[39mX\u001b[38;5;241m.\u001b[39mdtype, only_non_negative\u001b[38;5;241m=\u001b[39m\u001b[38;5;28;01mTrue\u001b[39;00m\n\u001b[1;32m    654\u001b[0m )\n\u001b[0;32m--> 656\u001b[0m X, y, X_offset, y_offset, X_scale \u001b[38;5;241m=\u001b[39m _preprocess_data(\n\u001b[1;32m    657\u001b[0m     X,\n\u001b[1;32m    658\u001b[0m     y,\n\u001b[1;32m    659\u001b[0m     fit_intercept\u001b[38;5;241m=\u001b[39m\u001b[38;5;28mself\u001b[39m\u001b[38;5;241m.\u001b[39mfit_intercept,\n\u001b[1;32m    660\u001b[0m     copy\u001b[38;5;241m=\u001b[39m\u001b[38;5;28mself\u001b[39m\u001b[38;5;241m.\u001b[39mcopy_X,\n\u001b[1;32m    661\u001b[0m     sample_weight\u001b[38;5;241m=\u001b[39msample_weight,\n\u001b[1;32m    662\u001b[0m )\n\u001b[1;32m    664\u001b[0m \u001b[38;5;66;03m# Sample weight can be implemented via a simple rescaling.\u001b[39;00m\n\u001b[1;32m    665\u001b[0m X, y, sample_weight_sqrt \u001b[38;5;241m=\u001b[39m _rescale_data(X, y, sample_weight)\n",
      "File \u001b[0;32m~/anaconda3/envs/torch/lib/python3.11/site-packages/sklearn/linear_model/_base.py:230\u001b[0m, in \u001b[0;36m_preprocess_data\u001b[0;34m(X, y, fit_intercept, normalize, copy, sample_weight, check_input)\u001b[0m\n\u001b[1;32m    227\u001b[0m     sample_weight \u001b[38;5;241m=\u001b[39m np\u001b[38;5;241m.\u001b[39masarray(sample_weight)\n\u001b[1;32m    229\u001b[0m \u001b[38;5;28;01mif\u001b[39;00m check_input:\n\u001b[0;32m--> 230\u001b[0m     X \u001b[38;5;241m=\u001b[39m check_array(X, copy\u001b[38;5;241m=\u001b[39mcopy, accept_sparse\u001b[38;5;241m=\u001b[39m[\u001b[38;5;124m\"\u001b[39m\u001b[38;5;124mcsr\u001b[39m\u001b[38;5;124m\"\u001b[39m, \u001b[38;5;124m\"\u001b[39m\u001b[38;5;124mcsc\u001b[39m\u001b[38;5;124m\"\u001b[39m], dtype\u001b[38;5;241m=\u001b[39mFLOAT_DTYPES)\n\u001b[1;32m    231\u001b[0m \u001b[38;5;28;01melif\u001b[39;00m copy:\n\u001b[1;32m    232\u001b[0m     \u001b[38;5;28;01mif\u001b[39;00m sp\u001b[38;5;241m.\u001b[39missparse(X):\n",
      "File \u001b[0;32m~/anaconda3/envs/torch/lib/python3.11/site-packages/sklearn/utils/validation.py:950\u001b[0m, in \u001b[0;36mcheck_array\u001b[0;34m(array, accept_sparse, accept_large_sparse, dtype, order, copy, force_all_finite, ensure_2d, allow_nd, ensure_min_samples, ensure_min_features, estimator, input_name)\u001b[0m\n\u001b[1;32m    947\u001b[0m \u001b[38;5;28;01mif\u001b[39;00m xp\u001b[38;5;241m.\u001b[39m\u001b[38;5;18m__name__\u001b[39m \u001b[38;5;129;01min\u001b[39;00m {\u001b[38;5;124m\"\u001b[39m\u001b[38;5;124mnumpy\u001b[39m\u001b[38;5;124m\"\u001b[39m, \u001b[38;5;124m\"\u001b[39m\u001b[38;5;124mnumpy.array_api\u001b[39m\u001b[38;5;124m\"\u001b[39m}:\n\u001b[1;32m    948\u001b[0m     \u001b[38;5;66;03m# only make a copy if `array` and `array_orig` may share memory`\u001b[39;00m\n\u001b[1;32m    949\u001b[0m     \u001b[38;5;28;01mif\u001b[39;00m np\u001b[38;5;241m.\u001b[39mmay_share_memory(array, array_orig):\n\u001b[0;32m--> 950\u001b[0m         array \u001b[38;5;241m=\u001b[39m _asarray_with_order(\n\u001b[1;32m    951\u001b[0m             array, dtype\u001b[38;5;241m=\u001b[39mdtype, order\u001b[38;5;241m=\u001b[39morder, copy\u001b[38;5;241m=\u001b[39m\u001b[38;5;28;01mTrue\u001b[39;00m, xp\u001b[38;5;241m=\u001b[39mxp\n\u001b[1;32m    952\u001b[0m         )\n\u001b[1;32m    953\u001b[0m \u001b[38;5;28;01melse\u001b[39;00m:\n\u001b[1;32m    954\u001b[0m     \u001b[38;5;66;03m# always make a copy for non-numpy arrays\u001b[39;00m\n\u001b[1;32m    955\u001b[0m     array \u001b[38;5;241m=\u001b[39m _asarray_with_order(\n\u001b[1;32m    956\u001b[0m         array, dtype\u001b[38;5;241m=\u001b[39mdtype, order\u001b[38;5;241m=\u001b[39morder, copy\u001b[38;5;241m=\u001b[39m\u001b[38;5;28;01mTrue\u001b[39;00m, xp\u001b[38;5;241m=\u001b[39mxp\n\u001b[1;32m    957\u001b[0m     )\n",
      "File \u001b[0;32m~/anaconda3/envs/torch/lib/python3.11/site-packages/sklearn/utils/_array_api.py:186\u001b[0m, in \u001b[0;36m_asarray_with_order\u001b[0;34m(array, dtype, order, copy, xp)\u001b[0m\n\u001b[1;32m    183\u001b[0m \u001b[38;5;28;01mif\u001b[39;00m xp\u001b[38;5;241m.\u001b[39m\u001b[38;5;18m__name__\u001b[39m \u001b[38;5;129;01min\u001b[39;00m {\u001b[38;5;124m\"\u001b[39m\u001b[38;5;124mnumpy\u001b[39m\u001b[38;5;124m\"\u001b[39m, \u001b[38;5;124m\"\u001b[39m\u001b[38;5;124mnumpy.array_api\u001b[39m\u001b[38;5;124m\"\u001b[39m}:\n\u001b[1;32m    184\u001b[0m     \u001b[38;5;66;03m# Use NumPy API to support order\u001b[39;00m\n\u001b[1;32m    185\u001b[0m     array \u001b[38;5;241m=\u001b[39m numpy\u001b[38;5;241m.\u001b[39masarray(array, order\u001b[38;5;241m=\u001b[39morder, dtype\u001b[38;5;241m=\u001b[39mdtype)\n\u001b[0;32m--> 186\u001b[0m     \u001b[38;5;28;01mreturn\u001b[39;00m xp\u001b[38;5;241m.\u001b[39masarray(array, copy\u001b[38;5;241m=\u001b[39mcopy)\n\u001b[1;32m    187\u001b[0m \u001b[38;5;28;01melse\u001b[39;00m:\n\u001b[1;32m    188\u001b[0m     \u001b[38;5;28;01mreturn\u001b[39;00m xp\u001b[38;5;241m.\u001b[39masarray(array, dtype\u001b[38;5;241m=\u001b[39mdtype, copy\u001b[38;5;241m=\u001b[39mcopy)\n",
      "File \u001b[0;32m~/anaconda3/envs/torch/lib/python3.11/site-packages/sklearn/utils/_array_api.py:73\u001b[0m, in \u001b[0;36m_NumPyApiWrapper.asarray\u001b[0;34m(self, x, dtype, device, copy)\u001b[0m\n\u001b[1;32m     70\u001b[0m \u001b[38;5;28;01mdef\u001b[39;00m \u001b[38;5;21masarray\u001b[39m(\u001b[38;5;28mself\u001b[39m, x, \u001b[38;5;241m*\u001b[39m, dtype\u001b[38;5;241m=\u001b[39m\u001b[38;5;28;01mNone\u001b[39;00m, device\u001b[38;5;241m=\u001b[39m\u001b[38;5;28;01mNone\u001b[39;00m, copy\u001b[38;5;241m=\u001b[39m\u001b[38;5;28;01mNone\u001b[39;00m):\n\u001b[1;32m     71\u001b[0m     \u001b[38;5;66;03m# Support copy in NumPy namespace\u001b[39;00m\n\u001b[1;32m     72\u001b[0m     \u001b[38;5;28;01mif\u001b[39;00m copy \u001b[38;5;129;01mis\u001b[39;00m \u001b[38;5;28;01mTrue\u001b[39;00m:\n\u001b[0;32m---> 73\u001b[0m         \u001b[38;5;28;01mreturn\u001b[39;00m numpy\u001b[38;5;241m.\u001b[39marray(x, copy\u001b[38;5;241m=\u001b[39m\u001b[38;5;28;01mTrue\u001b[39;00m, dtype\u001b[38;5;241m=\u001b[39mdtype)\n\u001b[1;32m     74\u001b[0m     \u001b[38;5;28;01melse\u001b[39;00m:\n\u001b[1;32m     75\u001b[0m         \u001b[38;5;28;01mreturn\u001b[39;00m numpy\u001b[38;5;241m.\u001b[39masarray(x, dtype\u001b[38;5;241m=\u001b[39mdtype)\n",
      "\u001b[0;31mKeyboardInterrupt\u001b[0m: "
     ]
    }
   ],
   "source": [
    "from sklearn.preprocessing import PolynomialFeatures\n",
    "from sklearn.feature_selection import RFE\n",
    "\n",
    "# Polynomial Features\n",
    "poly = PolynomialFeatures(degree=2)\n",
    "X_train_poly = poly.fit_transform(X_train)\n",
    "X_test_poly = poly.transform(X_test)\n",
    "\n",
    "# Recursive Feature Elimination\n",
    "rfe = RFE(estimator=LinearRegression(), n_features_to_select=10)\n",
    "X_train_rfe = rfe.fit_transform(X_train_poly, y_train)\n",
    "X_test_rfe = rfe.transform(X_test_poly)\n",
    "\n",
    "# Get selected feature names\n",
    "selected_feature_names = [feature for feature, selected in zip(X_encoded.columns, rfe.support_) if selected]\n",
    "\n",
    "# Print selected feature names\n",
    "print(\"Selected Features:\")\n",
    "print(selected_feature_names)"
   ]
  },
  {
   "cell_type": "markdown",
   "id": "5b6cb911-e3d3-41b3-8f5c-41963c7fc9ce",
   "metadata": {},
   "source": [
    "### Linear Regression"
   ]
  },
  {
   "cell_type": "code",
   "execution_count": 5,
   "id": "f95a6d81-c88c-4b5f-9a9a-392aec90a609",
   "metadata": {},
   "outputs": [
    {
     "name": "stdout",
     "output_type": "stream",
     "text": [
      "Fitting 5 folds for each of 1 candidates, totalling 5 fits\n",
      "Mean Squared Error: 126207484.89037213\n",
      "R-squared (R2) Score: -0.11780873774987277\n"
     ]
    }
   ],
   "source": [
    "# Initializing model\n",
    "linear_reg = LinearRegression()\n",
    "\n",
    "# Defining hyperparameters (Linear Regression doesn't have hyperparameters to tune like Lasso or Ridge)\n",
    "param_grid = {}  # Empty dictionary as Linear Regression doesn't have specific hyperparameters\n",
    "\n",
    "# Performing GridSearchCV (Not for hyperparameter tuning, but for consistency)\n",
    "grid_search = GridSearchCV(estimator=linear_reg, param_grid=param_grid, \n",
    "                           cv=5, scoring='neg_mean_squared_error', verbose=1)\n",
    "\n",
    "# Fitting the model on the entire training data\n",
    "grid_search.fit(X_train, y_train)\n",
    "\n",
    "# Using the best model obtained directly (as Linear Regression doesn't have hyperparameters to tune)\n",
    "best_linear_reg = grid_search.best_estimator_\n",
    "best_linear_reg.fit(X_train, y_train)\n",
    "\n",
    "# Predicting on the test set using the final model\n",
    "y_pred = best_linear_reg.predict(X_test)\n",
    "\n",
    "# Calculating RMSE (Root Mean Squared Error) on the test set\n",
    "mse = mean_squared_error(y_test, y_pred)\n",
    "print(f\"Mean Squared Error: {mse}\")\n",
    "\n",
    "# Calculating R Squared Error (R2 Score)\n",
    "r2 = r2_score(y_test, y_pred)\n",
    "print(f\"R-squared (R2) Score: {r2}\")"
   ]
  },
  {
   "cell_type": "markdown",
   "id": "b1cec065-61d5-4662-8586-2acd19a004f5",
   "metadata": {},
   "source": [
    "### Lasso Regression"
   ]
  },
  {
   "cell_type": "code",
   "execution_count": 6,
   "id": "16935416-2c03-4974-a789-0346463f939e",
   "metadata": {},
   "outputs": [
    {
     "name": "stdout",
     "output_type": "stream",
     "text": [
      "Fitting 5 folds for each of 3 candidates, totalling 15 fits\n",
      "Mean Squared Error: 115204744.41188267\n",
      "R-squared (R2) Score: -0.012896953719612969\n"
     ]
    }
   ],
   "source": [
    "# Initializing model\n",
    "lasso_reg = Lasso()\n",
    "\n",
    "# Defining hyperparameters \n",
    "param_grid = {\n",
    "    'alpha': [0.1, 1.0, 10.0]  # Regularization strength\n",
    "}\n",
    "\n",
    "# Performing GridSearchCV to tune hyperparameters\n",
    "grid_search = GridSearchCV(estimator=lasso_reg, param_grid=param_grid, \n",
    "                           cv=5, scoring='neg_mean_squared_error', verbose=1)\n",
    "\n",
    "# Fitting the model on the entire training data\n",
    "grid_search.fit(X_train, y_train)\n",
    "\n",
    "# Getting the best hyperparameters\n",
    "best_params = grid_search.best_params_\n",
    "\n",
    "# Using the best hyperparameters to create the final model\n",
    "best_lasso_reg = Lasso(**best_params)\n",
    "best_lasso_reg.fit(X_train, y_train)\n",
    "\n",
    "# Predicting on the test set using the final model\n",
    "y_pred = best_lasso_reg.predict(X_test)\n",
    "\n",
    "# Calculating RMSE (Root Mean Squared Error) on test set\n",
    "mse = mean_squared_error(y_test, y_pred)\n",
    "print(f\"Mean Squared Error: {mse}\")\n",
    "\n",
    "# Calculating R Squared Error (R2 Score)\n",
    "r2 = r2_score(y_test, y_pred)\n",
    "print(f\"R-squared (R2) Score: {r2}\")\n"
   ]
  },
  {
   "cell_type": "markdown",
   "id": "40c08320-294b-406d-9c34-cf6e7af6308b",
   "metadata": {},
   "source": [
    "### Ridge Regression"
   ]
  },
  {
   "cell_type": "code",
   "execution_count": 9,
   "id": "1c1801f2-13a8-4e5b-86f1-cea12d476b11",
   "metadata": {},
   "outputs": [
    {
     "name": "stdout",
     "output_type": "stream",
     "text": [
      "Fitting 5 folds for each of 3 candidates, totalling 15 fits\n",
      "Mean Squared Error: 116228284.22941205\n",
      "R-squared (R2) Score: -0.028247699374661428\n"
     ]
    }
   ],
   "source": [
    "#initializing model\n",
    "ridge_reg = Ridge()\n",
    "\n",
    "#defining hyperparameters for tuning\n",
    "param_grid = {\n",
    "    'alpha': [0.1, 1.0, 10.0]  # Regularization strength\n",
    "}\n",
    "\n",
    "#performing GridSearchCV to tune hyperparameter\n",
    "grid_search = GridSearchCV(estimator=ridge_reg, param_grid=param_grid, \n",
    "                           cv=5, scoring='neg_mean_squared_error', verbose=1)\n",
    "\n",
    "#fitting the model on the entire training data\n",
    "grid_search.fit(X_train, y_train)\n",
    "\n",
    "#getting the best hyperparameters\n",
    "best_params = grid_search.best_params_\n",
    "\n",
    "#using the best hyperparameters to create the final model\n",
    "best_ridge_reg = Ridge(**best_params)\n",
    "best_ridge_reg.fit(X_train, y_train)\n",
    "\n",
    "#predict on the test set using the final model\n",
    "y_pred = best_ridge_reg.predict(X_test)\n",
    "\n",
    "#calculating RMSE (Root Mean Squared Error) on test set\n",
    "mse = (mean_squared_error(y_test, y_pred))\n",
    "print(f\"Mean Squared Error: {mse}\")\n",
    "\n",
    "#calculating R Squared Error (R2 Score)\n",
    "r2 = r2_score(y_test, y_pred)\n",
    "print(f\"R-squared (R2) Score: {r2}\")"
   ]
  },
  {
   "cell_type": "markdown",
   "id": "d1f8c202-48d1-4d3b-90d1-6401967c66db",
   "metadata": {},
   "source": [
    "### Decision Tree"
   ]
  },
  {
   "cell_type": "code",
   "execution_count": 8,
   "id": "e08aa26c-5e32-4cd1-94f6-6733baff3e94",
   "metadata": {},
   "outputs": [
    {
     "name": "stdout",
     "output_type": "stream",
     "text": [
      "Fitting 5 folds for each of 36 candidates, totalling 180 fits\n",
      "Mean Squared Error: 113072521.97086218\n",
      "R-squared (R2) Score: -0.0011107727036706594\n"
     ]
    }
   ],
   "source": [
    "#initializing model \n",
    "tree_reg = DecisionTreeRegressor()\n",
    "\n",
    "#defining hyperparameters for tuning\n",
    "param_grid = {\n",
    "    'max_depth': [3, 5, 7, None],  # Maximum depth of the tree\n",
    "    'min_samples_split': [2, 5, 10],  # Minimum number of samples required to split an internal node\n",
    "    'min_samples_leaf': [1, 2, 4]  # Minimum number of samples required to be at a leaf node\n",
    "}\n",
    "\n",
    "#performing GridSearchCV for hyperparameter tuning\n",
    "grid_search = GridSearchCV(estimator=tree_reg, param_grid=param_grid, \n",
    "                           cv=5, scoring='neg_mean_squared_error', verbose=1)\n",
    "\n",
    "#fitting the model on the entire training data with hyperparameter tuning\n",
    "grid_search.fit(X_train, y_train)\n",
    "\n",
    "#getting the best hyperparameters\n",
    "best_params = grid_search.best_params_\n",
    "\n",
    "#using the best hyperparameters to create the final model\n",
    "best_tree_reg = DecisionTreeRegressor(**best_params)\n",
    "best_tree_reg.fit(X_train, y_train)\n",
    "\n",
    "#predicting on the test set using the final model\n",
    "y_pred = best_tree_reg.predict(X_test)\n",
    "\n",
    "#calculating RMSE (Root Mean Squared Error) on test set\n",
    "mse = mean_squared_error(y_test, y_pred)\n",
    "print(f\"Mean Squared Error: {mse}\")\n",
    "\n",
    "#calculating R Squared Error (R2 Score)\n",
    "r2 = r2_score(y_test, y_pred)\n",
    "print(f\"R-squared (R2) Score: {r2}\")"
   ]
  },
  {
   "cell_type": "markdown",
   "id": "23fca1d4-dae0-48ef-81c7-c8999595c3a3",
   "metadata": {},
   "source": [
    "### Random Forest"
   ]
  },
  {
   "cell_type": "code",
   "execution_count": 22,
   "id": "86c8d834-c6dd-4d71-a590-eac38a45f441",
   "metadata": {},
   "outputs": [
    {
     "name": "stdout",
     "output_type": "stream",
     "text": [
      "Fitting 5 folds for each of 16 candidates, totalling 80 fits\n",
      "Mean Squared Error: 108611017.55555987\n",
      "R-squared (R2) Score: -0.019073226031216528\n"
     ]
    }
   ],
   "source": [
    "#initializing model \n",
    "forest_reg = RandomForestRegressor()\n",
    "\n",
    "#defining hyperparameters for tuning\n",
    "param_grid = {\n",
    "    'n_estimators': [100, 200],  # Number of trees in the forest\n",
    "    'max_depth': [5, 10],  # Maximum depth of the trees\n",
    "    'min_samples_split': [2, 5],  # Minimum number of samples required to split an internal node\n",
    "    'min_samples_leaf': [1, 3]  # Minimum number of samples required to be at a leaf node\n",
    "}\n",
    "\n",
    "#performing GridSearchCV to tune hyperparameter \n",
    "grid_search = GridSearchCV(estimator=forest_reg, param_grid=param_grid, \n",
    "                           cv=5, scoring='neg_mean_squared_error', verbose=1)\n",
    "\n",
    "#fitting the model on the entire training data \n",
    "grid_search.fit(X_train, y_train)\n",
    "\n",
    "#getting the best hyperparameters\n",
    "best_params = grid_search.best_params_\n",
    "\n",
    "#using the best hyperparameters to create the final model\n",
    "best_forest_reg = RandomForestRegressor(**best_params)\n",
    "best_forest_reg.fit(X_train, y_train)\n",
    "\n",
    "#predicting on the test set using the final model\n",
    "y_pred = best_forest_reg.predict(X_test)\n",
    "\n",
    "#calculating RMSE (Root Mean Squared Error) on test set\n",
    "mse = mean_squared_error(y_test, y_pred)\n",
    "print(f\"Mean Squared Error: {mse}\")\n",
    "\n",
    "#calculating R Squared Error (R2 Score)\n",
    "r2 = r2_score(y_test, y_pred)\n",
    "print(f\"R-squared (R2) Score: {r2}\")"
   ]
  },
  {
   "cell_type": "markdown",
   "id": "a8848b67-6341-487f-b5a1-e7b0811928de",
   "metadata": {},
   "source": [
    "### XGBoost"
   ]
  },
  {
   "cell_type": "code",
   "execution_count": 23,
   "id": "dd011343-4350-4785-b7ef-174a8d0691ef",
   "metadata": {},
   "outputs": [
    {
     "name": "stdout",
     "output_type": "stream",
     "text": [
      "Fitting 5 folds for each of 32 candidates, totalling 160 fits\n",
      "Mean Squared Error: 110512029.13638377\n",
      "R-squared (R2) Score: -0.0554141265416922\n"
     ]
    }
   ],
   "source": [
    "# Initializing XGBRegressor\n",
    "xgb_reg = XGBRegressor()\n",
    "\n",
    "# Defining hyperparameters for tuning\n",
    "param_grid = {\n",
    "    'n_estimators': [100, 200],         # Number of trees\n",
    "    'learning_rate': [0.1, 0.05],       # Step size shrinkage\n",
    "    'max_depth': [3, 5],                # Maximum depth of a tree\n",
    "    'min_child_weight': [1, 3],         # Minimum sum of instance weight (hessian) needed in a child\n",
    "    'gamma': [0, 0.1],                  # Minimum loss reduction required to make a further partition on a leaf node of the tree\n",
    "}\n",
    "\n",
    "# Performing GridSearchCV for tuning hyperparameters\n",
    "grid_search = GridSearchCV(estimator=xgb_reg, param_grid=param_grid, \n",
    "                           cv=5, scoring='neg_mean_squared_error', verbose=1)\n",
    "\n",
    "# Fitting the model on the entire training data with tuned hyperparameters\n",
    "grid_search.fit(X_train, y_train)\n",
    "\n",
    "# Getting the best hyperparameters\n",
    "best_params = grid_search.best_params_\n",
    "\n",
    "# Using the best hyperparameters to create the final model\n",
    "best_xgb_reg = XGBRegressor(**best_params)\n",
    "best_xgb_reg.fit(X_train, y_train)\n",
    "\n",
    "# Predicting on the test set using the final model\n",
    "y_pred = best_xgb_reg.predict(X_test)\n",
    "\n",
    "# Calculating RMSE (Root Mean Squared Error) on test set\n",
    "mse = mean_squared_error(y_test, y_pred)\n",
    "print(f\"Mean Squared Error: {mse}\")\n",
    "\n",
    "# Calculating R Squared Error (R2 Score)\n",
    "r2 = r2_score(y_test, y_pred)\n",
    "print(f\"R-squared (R2) Score: {r2}\")\n"
   ]
  },
  {
   "cell_type": "markdown",
   "id": "e638abcc-f00b-4f94-a167-4b3ff4c3dca2",
   "metadata": {},
   "source": [
    "### Visualization of Performance "
   ]
  },
  {
   "cell_type": "code",
   "execution_count": 3,
   "id": "d55cd6ff-06f1-406b-90e0-02dd1237f3b7",
   "metadata": {},
   "outputs": [
    {
     "data": {
      "image/png": "[encoded data removed]",
      "text/plain": [
       "<Figure size 1500x500 with 3 Axes>"
      ]
     },
     "metadata": {},
     "output_type": "display_data"
    }
   ],
   "source": [
    "mse_values = {\n",
    "    'Linear Regression': 126207484.89037213,\n",
    "    'Lasso': 115204744.41188267,\n",
    "    'Ridge': 116228284.22941205,\n",
    "    'Decision Tree': 113072521.97086218,\n",
    "    'Random Forest':  108611017.55555987,\n",
    "    'XGBoost':  110512029.13638377\n",
    "    \n",
    "}\n",
    "\n",
    "# Calculate RMSE from MSE\n",
    "rmse_values = {key: np.sqrt(value) for key, value in mse_values.items()}\n",
    "\n",
    "r_squared_values = {\n",
    "    'Linear Regression': -0.11780873774987277,\n",
    "    'Lasso': -0.012896953719612969,\n",
    "    'Ridge': -0.028247699374661428,\n",
    "    'Decision Tree': -0.0011107727036706594,\n",
    "    'Random Forest':-0.019073226031216528, \n",
    "    'XGBoost':  -0.0554141265416922\n",
    "    \n",
    "}\n",
    "\n",
    "# Plotting\n",
    "methods = list(mse_values.keys())\n",
    "\n",
    "plt.figure(figsize=(15, 5))\n",
    "\n",
    "# Plot MSE\n",
    "plt.subplot(1, 3, 1)\n",
    "plt.bar(methods, mse_values.values(), color='skyblue')\n",
    "plt.title('Mean Squared Error (MSE)')\n",
    "plt.ylabel('MSE')\n",
    "plt.xticks(rotation=45)\n",
    "\n",
    "# Plot RMSE\n",
    "plt.subplot(1, 3, 2)\n",
    "plt.bar(methods, rmse_values.values(), color='teal')\n",
    "plt.title('Root Mean Squared Error (RMSE)')\n",
    "plt.ylabel('RMSE')\n",
    "plt.xticks(rotation=45)\n",
    "\n",
    "# Plot R-squared\n",
    "plt.subplot(1, 3, 3)\n",
    "plt.bar(methods, r_squared_values.values(), color='coral')\n",
    "plt.title('R-squared (R2) Score')\n",
    "plt.ylabel('R2 Score')\n",
    "plt.xticks(rotation=45)\n",
    "plt.tight_layout()\n",
    "plt.savefig('output_ml.png')\n",
    "plt.show()\n"
   ]
  },
  {
   "cell_type": "code",
   "execution_count": null,
   "id": "31b964dd-ae15-416b-a6da-fc9341d1299c",
   "metadata": {},
   "outputs": [],
   "source": []
  }
 ],
 "metadata": {
  "kernelspec": {
   "display_name": "Python 3 (ipykernel)",
   "language": "python",
   "name": "python3"
  },
  "language_info": {
   "codemirror_mode": {
    "name": "ipython",
    "version": 3
   },
   "file_extension": ".py",
   "mimetype": "text/x-python",
   "name": "python",
   "nbconvert_exporter": "python",
   "pygments_lexer": "ipython3",
   "version": "3.11.5"
  }
 },
 "nbformat": 4,
 "nbformat_minor": 5
}
